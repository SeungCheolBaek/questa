{
 "cells": [
  {
   "cell_type": "code",
   "execution_count": null,
   "id": "b02b9d4b",
   "metadata": {},
   "outputs": [],
   "source": [
    "##### Fig. 2 - Workflow of time-resolved representational similarity analysis (RSA)\n",
    "#\n",
    "# written by S-C. Baek\n",
    "# updated date: 16.12.2024\n",
    "#"
   ]
  },
  {
   "cell_type": "code",
   "execution_count": 1,
   "id": "e593fb02",
   "metadata": {},
   "outputs": [],
   "source": [
    "# import packages\n",
    "import os\n",
    "import pickle\n",
    "\n",
    "import numpy as np\n",
    "import pandas as pd\n",
    "\n",
    "from scipy import stats as stats\n",
    "from scipy.spatial.distance import squareform\n",
    "\n",
    "import matplotlib.pyplot as plt"
   ]
  },
  {
   "cell_type": "code",
   "execution_count": 2,
   "id": "722755ee",
   "metadata": {},
   "outputs": [],
   "source": [
    "# path settings\n",
    "FIGDIR  = os.getcwd()\n",
    "MAINDIR = os.path.abspath('..')\n",
    "DATADIR = MAINDIR + os.sep + 'data/'"
   ]
  },
  {
   "cell_type": "code",
   "execution_count": 3,
   "id": "71e7d820",
   "metadata": {},
   "outputs": [],
   "source": [
    "# subjects\n",
    "s = os.listdir(DATADIR)\n",
    "subjects = [i for i in s if 'sub-' in i]\n",
    "subjects.sort()\n",
    "n_subjects = len(subjects)"
   ]
  },
  {
   "cell_type": "code",
   "execution_count": 4,
   "id": "c90e5d14",
   "metadata": {},
   "outputs": [],
   "source": [
    "# linguistic elements\n",
    "elements = ['phoneme', 'prosody']\n",
    "n_elements = len(elements)"
   ]
  },
  {
   "cell_type": "code",
   "execution_count": null,
   "id": "74852bce",
   "metadata": {},
   "outputs": [],
   "source": [
    "# Fig. 2b - time-resolved neural RDMs"
   ]
  },
  {
   "cell_type": "code",
   "execution_count": 5,
   "id": "94ac1a7c",
   "metadata": {},
   "outputs": [],
   "source": [
    "# data to plot\n",
    "subi = 0\n",
    "ei   = 0 # 0: phonemes, 1: prosody\n",
    "\n",
    "# import the data\n",
    "fname = DATADIR + subjects[subi] + os.sep + 'meg' + os.sep + 'rdm_rois_' + elements[ei] + '.pickle'\n",
    "with open(fname, 'rb') as f:\n",
    "    data = pickle.load(f)\n",
    "rdms = data['rdms'][1] # L-PAC\n",
    "n_times, n_dists = rdms.shape\n",
    "\n",
    "# time information\n",
    "twindow = 0.024 # in ms\n",
    "tmin  = data['tmin']\n",
    "tstep = data['tstep']\n",
    "tmax = tmin + tstep*(n_times-1)\n",
    "if np.abs(tmin + 0.2 - twindow/2) > tstep: # check if time windows were applied\n",
    "    # time window into samples\n",
    "    twindow_samp = int(twindow/tstep)\n",
    "    half_twindow_samp = int(twindow_samp/2)\n",
    "    \n",
    "    # update time information\n",
    "    tmin = tmin + half_twindow_samp*tstep\n",
    "    tmin_samp = half_twindow_samp\n",
    "    tmax = tmin - half_twindow_samp*tstep\n",
    "    tmax_samp = n_times - half_twindow_samp\n",
    "    n_times -= twindow_samp\n",
    "    \n",
    "    # apply time windows to rdms\n",
    "    # Note: calculating cv-Euclidean distance based on windowed data is equivalent to\n",
    "    #       applying time windows to sample-wise neural RDMs. (i.e., linear calculation)\n",
    "    rdms_windowed = np.zeros( (n_times, n_dists) )\n",
    "    tcenter_samp = np.arange(tmin_samp, tmax_samp)\n",
    "    for t, samp in enumerate(tcenter_samp):\n",
    "        rdms_windowed[t,:] = np.mean(rdms[samp-half_twindow_samp:samp+half_twindow_samp+1,:], axis=0)\n",
    "    rdms = rdms_windowed\n",
    "    del rdms_windowed\n",
    "tmax = tmin + tstep*(n_times-1)\n",
    "times = np.linspace(tmin, tmax, n_times)\n",
    "\n",
    "# rank-tranform the RDMs for visualization\n",
    "rdms = stats.rankdata(rdms, axis=-1)"
   ]
  },
  {
   "cell_type": "code",
   "execution_count": 6,
   "id": "50f1a086",
   "metadata": {},
   "outputs": [
    {
     "data": {
      "image/png": "[encoded data removed]",
      "text/plain": [
       "<Figure size 200x200 with 1 Axes>"
      ]
     },
     "metadata": {},
     "output_type": "display_data"
    },
    {
     "data": {
      "image/png": "[encoded data removed]",
      "text/plain": [
       "<Figure size 200x200 with 1 Axes>"
      ]
     },
     "metadata": {},
     "output_type": "display_data"
    },
    {
     "data": {
      "image/png": "[encoded data removed]",
      "text/plain": [
       "<Figure size 200x200 with 1 Axes>"
      ]
     },
     "metadata": {},
     "output_type": "display_data"
    },
    {
     "data": {
      "image/png": "[encoded data removed]",
      "text/plain": [
       "<Figure size 200x200 with 1 Axes>"
      ]
     },
     "metadata": {},
     "output_type": "display_data"
    }
   ],
   "source": [
    "# plotting parameters\n",
    "tbeg = 0.1\n",
    "tbeg_idx = np.argmin(np.abs(times-tbeg))\n",
    "\n",
    "# get the rdms to plot\n",
    "data = [rdms[tbeg_idx+i*25] for i in range(4)] # 4 rdms every 20 ms\n",
    "\n",
    "# plotting\n",
    "ticks = np.linspace(-0.5, 4.5, 6)\n",
    "for i, d in enumerate(data):\n",
    "    fig, ax = plt.subplots(figsize=(2,2), constrained_layout=True)\n",
    "    ax.imshow(squareform(d))\n",
    "    \n",
    "    # plot grid lines\n",
    "    ax.set_xticks(ticks)\n",
    "    ax.set_yticks(ticks)\n",
    "    ax.grid(color='k')\n",
    "\n",
    "    # make ticks invisible\n",
    "    for tick in ax.xaxis.get_major_ticks(): # x-axis\n",
    "        tick.tick1line.set_visible(False)\n",
    "        tick.tick2line.set_visible(False)\n",
    "        tick.label1.set_visible(False)\n",
    "        tick.label2.set_visible(False)\n",
    "    for tick in ax.yaxis.get_major_ticks(): # y-axis\n",
    "        tick.tick1line.set_visible(False)\n",
    "        tick.tick2line.set_visible(False)\n",
    "        tick.label1.set_visible(False)\n",
    "        tick.label2.set_visible(False)"
   ]
  },
  {
   "cell_type": "code",
   "execution_count": null,
   "id": "279e1df1",
   "metadata": {},
   "outputs": [],
   "source": [
    "# Fig. 2d - acoustic and categorical RDMs"
   ]
  },
  {
   "cell_type": "code",
   "execution_count": 7,
   "id": "f71c7ac8",
   "metadata": {},
   "outputs": [
    {
     "data": {
      "image/png": "[encoded data removed]",
      "text/plain": [
       "<Figure size 200x200 with 1 Axes>"
      ]
     },
     "metadata": {},
     "output_type": "display_data"
    },
    {
     "data": {
      "image/png": "[encoded data removed]",
      "text/plain": [
       "<Figure size 200x200 with 1 Axes>"
      ]
     },
     "metadata": {},
     "output_type": "display_data"
    }
   ],
   "source": [
    "# data to plot\n",
    "subi = 0\n",
    "ei   = 0 # 0: phoneme, 1: prosody\n",
    "\n",
    "# import model RDMs\n",
    "fname = DATADIR + subjects[subi] + os.sep + 'behavior' + os.sep + 'rdm_models_' + elements[ei] + '.txt'\n",
    "df = pd.read_csv(fname, sep='\\t', index_col=0)\n",
    "\n",
    "# models to plot\n",
    "rdm_names = df.columns\n",
    "rdms = [df[name].values.reshape(5,-1) for name in rdm_names]\n",
    "\n",
    "# ticks\n",
    "ticks = np.linspace(-0.5, 4.5, 6)\n",
    "    \n",
    "# plotting\n",
    "for i, d in enumerate(rdms):\n",
    "        \n",
    "    # plot model RDMs\n",
    "    fig, ax = plt.subplots(figsize=(2,2), constrained_layout=True)\n",
    "    ax.imshow(d)\n",
    "        \n",
    "    # plot grid lines\n",
    "    ax.set_xticks(ticks)\n",
    "    ax.set_yticks(ticks)\n",
    "    ax.grid(color='k')\n",
    "\n",
    "    # make ticks invisible\n",
    "    for tick in ax.xaxis.get_major_ticks(): # x-axis\n",
    "        tick.tick1line.set_visible(False)\n",
    "        tick.tick2line.set_visible(False)\n",
    "        tick.label1.set_visible(False)\n",
    "        tick.label2.set_visible(False)\n",
    "    for tick in ax.yaxis.get_major_ticks(): # y-axis\n",
    "        tick.tick1line.set_visible(False)\n",
    "        tick.tick2line.set_visible(False)\n",
    "        tick.label1.set_visible(False)\n",
    "        tick.label2.set_visible(False)"
   ]
  }
 ],
 "metadata": {
  "kernelspec": {
   "display_name": "Python 3 (ipykernel)",
   "language": "python",
   "name": "python3"
  },
  "language_info": {
   "codemirror_mode": {
    "name": "ipython",
    "version": 3
   },
   "file_extension": ".py",
   "mimetype": "text/x-python",
   "name": "python",
   "nbconvert_exporter": "python",
   "pygments_lexer": "ipython3",
   "version": "3.10.5"
  }
 },
 "nbformat": 4,
 "nbformat_minor": 5
}
